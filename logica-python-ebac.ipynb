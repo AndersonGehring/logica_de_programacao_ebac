{
  "nbformat": 4,
  "nbformat_minor": 0,
  "metadata": {
    "colab": {
      "provenance": []
    },
    "kernelspec": {
      "name": "python3",
      "display_name": "Python 3"
    },
    "language_info": {
      "name": "python"
    }
  },
  "cells": [
    {
      "cell_type": "code",
      "execution_count": 4,
      "metadata": {
        "colab": {
          "base_uri": "https://localhost:8080/"
        },
        "id": "_hl89DxvOeIr",
        "outputId": "47dfa45b-5ada-4c28-8305-bcbf743f2baf"
      },
      "outputs": [
        {
          "output_type": "stream",
          "name": "stdout",
          "text": [
            "Digite um número: 2\n",
            "Digite outro número: 4\n",
            "\n",
            "mult = multiplicação\n",
            "div = divisão\n",
            "soma = soma\n",
            "sub = subtração\n",
            "rest = resto de divisão\n",
            "\n",
            "Digite a operação desejada!rest\n",
            "2\n"
          ]
        }
      ],
      "source": [
        "num1 = input('Digite um número: ')\n",
        "num2 = input('Digite outro número: ')\n",
        "\n",
        "print()\n",
        "print('mult = multiplicação')\n",
        "print('div = divisão')\n",
        "print('soma = soma')\n",
        "print('sub = subtração')\n",
        "print('rest = resto de divisão')\n",
        "print()\n",
        "\n",
        "operacao = input('Digite a operação desejada!')\n",
        "\n",
        "if operacao == 'mult':\n",
        "    print(int(num1) * int(num2))\n",
        "\n",
        "elif operacao == 'div':\n",
        "    print(int(num1) / int(num2))\n",
        "\n",
        "elif operacao == 'soma':\n",
        "    print(int(num1) + int(num2))\n",
        "\n",
        "elif operacao == 'sub':\n",
        "    print(int(num1) - int(num2))\n",
        "\n",
        "elif operacao == 'rest':\n",
        "    print(int(num1) % int(num2))\n",
        "\n",
        "else:\n",
        "    print('Operação inválida!')"
      ]
    }
  ]
}